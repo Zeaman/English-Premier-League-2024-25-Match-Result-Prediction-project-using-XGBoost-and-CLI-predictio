{
 "cells": [
  {
   "cell_type": "markdown",
   "metadata": {},
   "source": [
    "# EP Result Preiction Model Traing using XGBoost Algorithm"
   ]
  },
  {
   "cell_type": "markdown",
   "metadata": {},
   "source": [
    "### 1. Donwload Required Deps"
   ]
  },
  {
   "cell_type": "code",
   "execution_count": null,
   "metadata": {},
   "outputs": [],
   "source": [
    "# Download deps:\n",
    "!pip install pandas\n",
    "!pip install scikit-learn\n",
    "!pip install xgboost"
   ]
  },
  {
   "cell_type": "markdown",
   "metadata": {},
   "source": [
    "### 2. Import Required Deps"
   ]
  },
  {
   "cell_type": "code",
   "execution_count": 14,
   "metadata": {},
   "outputs": [],
   "source": [
    "# Import dependencies\n",
    "import os\n",
    "import joblib\n",
    "import pandas as pd\n",
    "import matplotlib.pyplot as plt\n",
    "from xgboost import XGBClassifier, plot_importance\n",
    "from sklearn.preprocessing import LabelEncoder\n",
    "from sklearn.model_selection import train_test_split\n",
    "from sklearn.metrics import classification_report, confusion_matrix"
   ]
  },
  {
   "cell_type": "markdown",
   "metadata": {},
   "source": [
    "### 3. Load and Explore the Dataset"
   ]
  },
  {
   "cell_type": "code",
   "execution_count": 3,
   "metadata": {},
   "outputs": [],
   "source": [
    "# Load data\n",
    "df = pd.read_csv(\"C:\\My_Files\\Projects\\ep_2024_25_result_prediction\\EPL_Results_2024_25.csv\") "
   ]
  },
  {
   "cell_type": "code",
   "execution_count": 4,
   "metadata": {},
   "outputs": [
    {
     "name": "stdout",
     "output_type": "stream",
     "text": [
      "(380, 120)\n",
      "Index(['Div', 'Date', 'Time', 'HomeTeam', 'AwayTeam', 'FTHG', 'FTAG', 'FTR',\n",
      "       'HTHG', 'HTAG',\n",
      "       ...\n",
      "       'B365CAHH', 'B365CAHA', 'PCAHH', 'PCAHA', 'MaxCAHH', 'MaxCAHA',\n",
      "       'AvgCAHH', 'AvgCAHA', 'BFECAHH', 'BFECAHA'],\n",
      "      dtype='object', length=120)\n"
     ]
    },
    {
     "data": {
      "text/html": [
       "<div>\n",
       "<style scoped>\n",
       "    .dataframe tbody tr th:only-of-type {\n",
       "        vertical-align: middle;\n",
       "    }\n",
       "\n",
       "    .dataframe tbody tr th {\n",
       "        vertical-align: top;\n",
       "    }\n",
       "\n",
       "    .dataframe thead th {\n",
       "        text-align: right;\n",
       "    }\n",
       "</style>\n",
       "<table border=\"1\" class=\"dataframe\">\n",
       "  <thead>\n",
       "    <tr style=\"text-align: right;\">\n",
       "      <th></th>\n",
       "      <th>Div</th>\n",
       "      <th>Date</th>\n",
       "      <th>Time</th>\n",
       "      <th>HomeTeam</th>\n",
       "      <th>AwayTeam</th>\n",
       "      <th>FTHG</th>\n",
       "      <th>FTAG</th>\n",
       "      <th>FTR</th>\n",
       "      <th>HTHG</th>\n",
       "      <th>HTAG</th>\n",
       "      <th>...</th>\n",
       "      <th>B365CAHH</th>\n",
       "      <th>B365CAHA</th>\n",
       "      <th>PCAHH</th>\n",
       "      <th>PCAHA</th>\n",
       "      <th>MaxCAHH</th>\n",
       "      <th>MaxCAHA</th>\n",
       "      <th>AvgCAHH</th>\n",
       "      <th>AvgCAHA</th>\n",
       "      <th>BFECAHH</th>\n",
       "      <th>BFECAHA</th>\n",
       "    </tr>\n",
       "  </thead>\n",
       "  <tbody>\n",
       "    <tr>\n",
       "      <th>0</th>\n",
       "      <td>E0</td>\n",
       "      <td>16/08/2024</td>\n",
       "      <td>20:00</td>\n",
       "      <td>Man United</td>\n",
       "      <td>Fulham</td>\n",
       "      <td>1</td>\n",
       "      <td>0</td>\n",
       "      <td>H</td>\n",
       "      <td>0</td>\n",
       "      <td>0</td>\n",
       "      <td>...</td>\n",
       "      <td>1.86</td>\n",
       "      <td>2.07</td>\n",
       "      <td>1.83</td>\n",
       "      <td>2.11</td>\n",
       "      <td>1.88</td>\n",
       "      <td>2.11</td>\n",
       "      <td>1.82</td>\n",
       "      <td>2.05</td>\n",
       "      <td>1.90</td>\n",
       "      <td>2.08</td>\n",
       "    </tr>\n",
       "    <tr>\n",
       "      <th>1</th>\n",
       "      <td>E0</td>\n",
       "      <td>17/08/2024</td>\n",
       "      <td>12:30</td>\n",
       "      <td>Ipswich</td>\n",
       "      <td>Liverpool</td>\n",
       "      <td>0</td>\n",
       "      <td>2</td>\n",
       "      <td>A</td>\n",
       "      <td>0</td>\n",
       "      <td>0</td>\n",
       "      <td>...</td>\n",
       "      <td>2.05</td>\n",
       "      <td>1.88</td>\n",
       "      <td>2.04</td>\n",
       "      <td>1.90</td>\n",
       "      <td>2.20</td>\n",
       "      <td>2.00</td>\n",
       "      <td>1.99</td>\n",
       "      <td>1.88</td>\n",
       "      <td>2.04</td>\n",
       "      <td>1.93</td>\n",
       "    </tr>\n",
       "    <tr>\n",
       "      <th>2</th>\n",
       "      <td>E0</td>\n",
       "      <td>17/08/2024</td>\n",
       "      <td>15:00</td>\n",
       "      <td>Arsenal</td>\n",
       "      <td>Wolves</td>\n",
       "      <td>2</td>\n",
       "      <td>0</td>\n",
       "      <td>H</td>\n",
       "      <td>1</td>\n",
       "      <td>0</td>\n",
       "      <td>...</td>\n",
       "      <td>2.02</td>\n",
       "      <td>1.91</td>\n",
       "      <td>2.00</td>\n",
       "      <td>1.90</td>\n",
       "      <td>2.05</td>\n",
       "      <td>1.93</td>\n",
       "      <td>1.99</td>\n",
       "      <td>1.87</td>\n",
       "      <td>2.02</td>\n",
       "      <td>1.96</td>\n",
       "    </tr>\n",
       "    <tr>\n",
       "      <th>3</th>\n",
       "      <td>E0</td>\n",
       "      <td>17/08/2024</td>\n",
       "      <td>15:00</td>\n",
       "      <td>Everton</td>\n",
       "      <td>Brighton</td>\n",
       "      <td>0</td>\n",
       "      <td>3</td>\n",
       "      <td>A</td>\n",
       "      <td>0</td>\n",
       "      <td>1</td>\n",
       "      <td>...</td>\n",
       "      <td>1.87</td>\n",
       "      <td>2.06</td>\n",
       "      <td>1.86</td>\n",
       "      <td>2.07</td>\n",
       "      <td>1.92</td>\n",
       "      <td>2.10</td>\n",
       "      <td>1.83</td>\n",
       "      <td>2.04</td>\n",
       "      <td>1.88</td>\n",
       "      <td>2.11</td>\n",
       "    </tr>\n",
       "    <tr>\n",
       "      <th>4</th>\n",
       "      <td>E0</td>\n",
       "      <td>17/08/2024</td>\n",
       "      <td>15:00</td>\n",
       "      <td>Newcastle</td>\n",
       "      <td>Southampton</td>\n",
       "      <td>1</td>\n",
       "      <td>0</td>\n",
       "      <td>H</td>\n",
       "      <td>1</td>\n",
       "      <td>0</td>\n",
       "      <td>...</td>\n",
       "      <td>1.87</td>\n",
       "      <td>2.06</td>\n",
       "      <td>1.88</td>\n",
       "      <td>2.06</td>\n",
       "      <td>1.89</td>\n",
       "      <td>2.10</td>\n",
       "      <td>1.82</td>\n",
       "      <td>2.05</td>\n",
       "      <td>1.89</td>\n",
       "      <td>2.10</td>\n",
       "    </tr>\n",
       "  </tbody>\n",
       "</table>\n",
       "<p>5 rows × 120 columns</p>\n",
       "</div>"
      ],
      "text/plain": [
       "  Div        Date   Time    HomeTeam     AwayTeam  FTHG  FTAG FTR  HTHG  HTAG  \\\n",
       "0  E0  16/08/2024  20:00  Man United       Fulham     1     0   H     0     0   \n",
       "1  E0  17/08/2024  12:30     Ipswich    Liverpool     0     2   A     0     0   \n",
       "2  E0  17/08/2024  15:00     Arsenal       Wolves     2     0   H     1     0   \n",
       "3  E0  17/08/2024  15:00     Everton     Brighton     0     3   A     0     1   \n",
       "4  E0  17/08/2024  15:00   Newcastle  Southampton     1     0   H     1     0   \n",
       "\n",
       "   ... B365CAHH B365CAHA  PCAHH  PCAHA  MaxCAHH  MaxCAHA  AvgCAHH  AvgCAHA  \\\n",
       "0  ...     1.86     2.07   1.83   2.11     1.88     2.11     1.82     2.05   \n",
       "1  ...     2.05     1.88   2.04   1.90     2.20     2.00     1.99     1.88   \n",
       "2  ...     2.02     1.91   2.00   1.90     2.05     1.93     1.99     1.87   \n",
       "3  ...     1.87     2.06   1.86   2.07     1.92     2.10     1.83     2.04   \n",
       "4  ...     1.87     2.06   1.88   2.06     1.89     2.10     1.82     2.05   \n",
       "\n",
       "   BFECAHH  BFECAHA  \n",
       "0     1.90     2.08  \n",
       "1     2.04     1.93  \n",
       "2     2.02     1.96  \n",
       "3     1.88     2.11  \n",
       "4     1.89     2.10  \n",
       "\n",
       "[5 rows x 120 columns]"
      ]
     },
     "execution_count": 4,
     "metadata": {},
     "output_type": "execute_result"
    }
   ],
   "source": [
    "# Preview the original dataset (df):\n",
    "print(\"Initial shape:\", df.shape)\n",
    "print(\"Available columns:\", df.columns.tolist())\n",
    "print(df.head())                         # The first 5 rows"
   ]
  },
  {
   "cell_type": "markdown",
   "metadata": {},
   "source": [
    "### 4. Pre-process the dataset: Feature Selection & Cleaning"
   ]
  },
  {
   "cell_type": "code",
   "execution_count": null,
   "metadata": {},
   "outputs": [],
   "source": [
    "# Keywords fro relevant features to stay: \n",
    "'''\n",
    "Annotated Football Match Features I used:\n",
    "1. 'FTHG': Full Time Home Goals - The total number of goals scored by the home team at the end of regular time (90 minutes + injury time).\n",
    "2. 'FTAG': Full Time Away Goals - The total number of goals scored by the away team at the end of regular time.\n",
    "3. 'HS': Home Shots - The total number of shot attempts made by the home team during the entire match. This includes shots on target, off target, and blocked shots.\n",
    "4. 'AS': Away Shots - The total number of shot attempts made by the away team during the entire match.\n",
    "5. 'HST': Home Shots on Target - The number of shots taken by the home team that were directed at the goal and would have entered the goal if not for a save by the goalkeeper or a block by a defender (who is not the goalkeeper).\n",
    "6. 'AST': Away Shots on Target - The number of shots taken by the away team that were on target.\n",
    "7. 'HF': Home Fouls - The total number of fouls committed by the home team during the match.\n",
    "8. 'AF': Away Fouls - The total number of fouls committed by the away team during the match.\n",
    "9. 'HC': Home Corners - The total number of corner kicks awarded to the home team during the match.\n",
    "10. 'AC': Away Corners - The total number of corner kicks awarded to the away team during the match.\n",
    "11. 'HY': Home Yellow Cards - The total number of yellow cards issued to players of the home team during the match. A yellow card is a caution.\n",
    "12. 'AY': Away Yellow Cards - The total number of yellow cards issued to players of the away team during the match.\n",
    "13. 'HR': Home Red Cards - The total number of red cards issued to players of the home team during the match. A red card results in the player being sent off and unable to continue playing.\n",
    "14. 'AR': Away Red Cards - The total number of red cards issued to players of the away team during the match.\n",
    "15. 'B365H': Bet365 Home Win Odds - The betting odds offered by the bookmaker Bet365 for the home team to win the match. Lower odds typically indicate a higher perceived probability of that outcome.\n",
    "16. 'B365D': Bet365 Draw Odds - The betting odds offered by Bet365 for the match to end in a draw.\n",
    "17. 'B365A': Bet365 Away Win Odds - The betting odds offered by Bet365 for the away team to win the match.\n",
    "18. 'FTR': Full Time Result - This is typically your target variable for prediction. It represents the final outcome of the match, often encoded as:\n",
    "        'H': Home team wins\n",
    "        'D': Draw\n",
    "        'A': Away team wins\n",
    "'''"
   ]
  },
  {
   "cell_type": "code",
   "execution_count": 5,
   "metadata": {},
   "outputs": [],
   "source": [
    "# Keep relevant 18 features from the whole 120 features:\n",
    "features = [\n",
    "    'FTHG', 'FTAG', 'HS', 'AS', 'HST', 'AST', 'HF', 'AF',\n",
    "    'HC', 'AC', 'HY', 'AY', 'HR', 'AR',\n",
    "    'B365H', 'B365D', 'B365A',\n",
    "    'FTR'  # Target column\n",
    "]\n",
    "df = df[features]\n",
    "\n",
    "# Drop missing values\n",
    "df.dropna(inplace=True)\n",
    "print(\"Cleaned data shape:\", df.shape)                                 # Drop rows with missing values"
   ]
  },
  {
   "cell_type": "code",
   "execution_count": 7,
   "metadata": {},
   "outputs": [
    {
     "name": "stdout",
     "output_type": "stream",
     "text": [
      "(380, 18)\n",
      "Index(['FTHG', 'FTAG', 'HS', 'AS', 'HST', 'AST', 'HF', 'AF', 'HC', 'AC', 'HY',\n",
      "       'AY', 'HR', 'AR', 'B365H', 'B365D', 'B365A', 'FTR'],\n",
      "      dtype='object')\n"
     ]
    },
    {
     "data": {
      "text/html": [
       "<div>\n",
       "<style scoped>\n",
       "    .dataframe tbody tr th:only-of-type {\n",
       "        vertical-align: middle;\n",
       "    }\n",
       "\n",
       "    .dataframe tbody tr th {\n",
       "        vertical-align: top;\n",
       "    }\n",
       "\n",
       "    .dataframe thead th {\n",
       "        text-align: right;\n",
       "    }\n",
       "</style>\n",
       "<table border=\"1\" class=\"dataframe\">\n",
       "  <thead>\n",
       "    <tr style=\"text-align: right;\">\n",
       "      <th></th>\n",
       "      <th>FTHG</th>\n",
       "      <th>FTAG</th>\n",
       "      <th>HS</th>\n",
       "      <th>AS</th>\n",
       "      <th>HST</th>\n",
       "      <th>AST</th>\n",
       "      <th>HF</th>\n",
       "      <th>AF</th>\n",
       "      <th>HC</th>\n",
       "      <th>AC</th>\n",
       "      <th>HY</th>\n",
       "      <th>AY</th>\n",
       "      <th>HR</th>\n",
       "      <th>AR</th>\n",
       "      <th>B365H</th>\n",
       "      <th>B365D</th>\n",
       "      <th>B365A</th>\n",
       "      <th>FTR</th>\n",
       "    </tr>\n",
       "  </thead>\n",
       "  <tbody>\n",
       "    <tr>\n",
       "      <th>0</th>\n",
       "      <td>1</td>\n",
       "      <td>0</td>\n",
       "      <td>14</td>\n",
       "      <td>10</td>\n",
       "      <td>5</td>\n",
       "      <td>2</td>\n",
       "      <td>12</td>\n",
       "      <td>10</td>\n",
       "      <td>7</td>\n",
       "      <td>8</td>\n",
       "      <td>2</td>\n",
       "      <td>3</td>\n",
       "      <td>0</td>\n",
       "      <td>0</td>\n",
       "      <td>1.60</td>\n",
       "      <td>4.20</td>\n",
       "      <td>5.25</td>\n",
       "      <td>H</td>\n",
       "    </tr>\n",
       "    <tr>\n",
       "      <th>1</th>\n",
       "      <td>0</td>\n",
       "      <td>2</td>\n",
       "      <td>7</td>\n",
       "      <td>18</td>\n",
       "      <td>2</td>\n",
       "      <td>5</td>\n",
       "      <td>9</td>\n",
       "      <td>18</td>\n",
       "      <td>2</td>\n",
       "      <td>10</td>\n",
       "      <td>3</td>\n",
       "      <td>1</td>\n",
       "      <td>0</td>\n",
       "      <td>0</td>\n",
       "      <td>8.50</td>\n",
       "      <td>5.50</td>\n",
       "      <td>1.33</td>\n",
       "      <td>A</td>\n",
       "    </tr>\n",
       "    <tr>\n",
       "      <th>2</th>\n",
       "      <td>2</td>\n",
       "      <td>0</td>\n",
       "      <td>18</td>\n",
       "      <td>9</td>\n",
       "      <td>6</td>\n",
       "      <td>3</td>\n",
       "      <td>17</td>\n",
       "      <td>14</td>\n",
       "      <td>8</td>\n",
       "      <td>2</td>\n",
       "      <td>2</td>\n",
       "      <td>2</td>\n",
       "      <td>0</td>\n",
       "      <td>0</td>\n",
       "      <td>1.18</td>\n",
       "      <td>7.50</td>\n",
       "      <td>13.00</td>\n",
       "      <td>H</td>\n",
       "    </tr>\n",
       "    <tr>\n",
       "      <th>3</th>\n",
       "      <td>0</td>\n",
       "      <td>3</td>\n",
       "      <td>9</td>\n",
       "      <td>10</td>\n",
       "      <td>1</td>\n",
       "      <td>5</td>\n",
       "      <td>8</td>\n",
       "      <td>8</td>\n",
       "      <td>1</td>\n",
       "      <td>5</td>\n",
       "      <td>1</td>\n",
       "      <td>1</td>\n",
       "      <td>1</td>\n",
       "      <td>0</td>\n",
       "      <td>2.63</td>\n",
       "      <td>3.30</td>\n",
       "      <td>2.63</td>\n",
       "      <td>A</td>\n",
       "    </tr>\n",
       "    <tr>\n",
       "      <th>4</th>\n",
       "      <td>1</td>\n",
       "      <td>0</td>\n",
       "      <td>3</td>\n",
       "      <td>19</td>\n",
       "      <td>1</td>\n",
       "      <td>4</td>\n",
       "      <td>15</td>\n",
       "      <td>16</td>\n",
       "      <td>3</td>\n",
       "      <td>12</td>\n",
       "      <td>2</td>\n",
       "      <td>4</td>\n",
       "      <td>1</td>\n",
       "      <td>0</td>\n",
       "      <td>1.36</td>\n",
       "      <td>5.25</td>\n",
       "      <td>8.00</td>\n",
       "      <td>H</td>\n",
       "    </tr>\n",
       "  </tbody>\n",
       "</table>\n",
       "</div>"
      ],
      "text/plain": [
       "   FTHG  FTAG  HS  AS  HST  AST  HF  AF  HC  AC  HY  AY  HR  AR  B365H  B365D  \\\n",
       "0     1     0  14  10    5    2  12  10   7   8   2   3   0   0   1.60   4.20   \n",
       "1     0     2   7  18    2    5   9  18   2  10   3   1   0   0   8.50   5.50   \n",
       "2     2     0  18   9    6    3  17  14   8   2   2   2   0   0   1.18   7.50   \n",
       "3     0     3   9  10    1    5   8   8   1   5   1   1   1   0   2.63   3.30   \n",
       "4     1     0   3  19    1    4  15  16   3  12   2   4   1   0   1.36   5.25   \n",
       "\n",
       "   B365A FTR  \n",
       "0   5.25   H  \n",
       "1   1.33   A  \n",
       "2  13.00   H  \n",
       "3   2.63   A  \n",
       "4   8.00   H  "
      ]
     },
     "execution_count": 7,
     "metadata": {},
     "output_type": "execute_result"
    }
   ],
   "source": [
    "# Preview the cleaned dataset (df):\n",
    "print(df.shape)\n",
    "print(df.columns)\n",
    "df.head()"
   ]
  },
  {
   "cell_type": "markdown",
   "metadata": {},
   "source": [
    "### 5.  Encode Target Variables"
   ]
  },
  {
   "cell_type": "code",
   "execution_count": 11,
   "metadata": {},
   "outputs": [
    {
     "name": "stdout",
     "output_type": "stream",
     "text": [
      "Target distribution:\n",
      " FTR\n",
      "2    155\n",
      "0    132\n",
      "1     93\n",
      "Name: count, dtype: int64\n"
     ]
    }
   ],
   "source": [
    "# Encode variables for FTR:\n",
    "'''\n",
    "=> H = 0 \n",
    "=> D = 1 \n",
    "=> A = 2\n",
    "'''\n",
    "\n",
    "le = LabelEncoder()\n",
    "df['FTR'] = le.fit_transform(df['FTR'])\n",
    "\n",
    "# Show mapping\n",
    "print(\"Encoded FTR classes:\", list(le.classes_))\n",
    "print(\"Target distribution:\\n\", df['FTR'].value_counts())"
   ]
  },
  {
   "cell_type": "markdown",
   "metadata": {},
   "source": [
    "### 6. Split the above Dataset (df)"
   ]
  },
  {
   "cell_type": "code",
   "execution_count": 13,
   "metadata": {},
   "outputs": [],
   "source": [
    "# Split the dataset (df):\n",
    "'''\n",
    "=> 80% : training\n",
    "=> 20% : testing\n",
    "\n",
    "'''\n",
    "\n",
    "X = df.drop(columns='FTR')\n",
    "y = df['FTR']\n",
    "\n",
    "X_train, X_test, y_train, y_test = train_test_split(\n",
    "    X, y,\n",
    "    test_size=0.2,\n",
    "    stratify=y,\n",
    "    random_state=42\n",
    ")"
   ]
  },
  {
   "cell_type": "markdown",
   "metadata": {},
   "source": [
    "### 7. Rerain the XGBoost Model"
   ]
  },
  {
   "cell_type": "code",
   "execution_count": 16,
   "metadata": {},
   "outputs": [
    {
     "name": "stderr",
     "output_type": "stream",
     "text": [
      "c:\\My_Files\\Projects\\ai_venv_310\\lib\\site-packages\\xgboost\\training.py:183: UserWarning: [15:46:17] WARNING: C:\\actions-runner\\_work\\xgboost\\xgboost\\src\\learner.cc:738: \n",
      "Parameters: { \"use_label_encoder\" } are not used.\n",
      "\n",
      "  bst.update(dtrain, iteration=i, fobj=obj)\n"
     ]
    },
    {
     "name": "stdout",
     "output_type": "stream",
     "text": [
      "[[26  0  0]\n",
      " [ 0 18  1]\n",
      " [ 0  0 31]]\n",
      "              precision    recall  f1-score   support\n",
      "\n",
      "           0       1.00      1.00      1.00        26\n",
      "           1       1.00      0.95      0.97        19\n",
      "           2       0.97      1.00      0.98        31\n",
      "\n",
      "    accuracy                           0.99        76\n",
      "   macro avg       0.99      0.98      0.99        76\n",
      "weighted avg       0.99      0.99      0.99        76\n",
      "\n"
     ]
    }
   ],
   "source": [
    "xgb_model = XGBClassifier(\n",
    "    n_estimators=100,\n",
    "    learning_rate=0.1,\n",
    "    max_depth=6,\n",
    "    subsample=0.8,\n",
    "    colsample_bytree=0.8,\n",
    "    use_label_encoder=False,\n",
    "    eval_metric='mlogloss',\n",
    "    random_state=42\n",
    ")\n",
    "\n",
    "xgb_model.fit(X_train, y_train)\n",
    "\n",
    "# --------------------------\n",
    "# Evaluation\n",
    "# --------------------------\n",
    "y_pred = xgb_model.predict(X_test)\n",
    "\n",
    "print(\"\\n✅ Confusion Matrix:\")\n",
    "print(confusion_matrix(y_test, y_pred))\n",
    "\n",
    "print(\"\\n📊 Classification Report:\")\n",
    "print(classification_report(y_test, y_pred, target_names=le.classes_))  # Use real labels"
   ]
  },
  {
   "cell_type": "markdown",
   "metadata": {},
   "source": [
    "### 8. Feature Importance (XGBoost)"
   ]
  },
  {
   "cell_type": "code",
   "execution_count": 17,
   "metadata": {},
   "outputs": [
    {
     "data": {
      "text/plain": [
       "<Figure size 1000x800 with 0 Axes>"
      ]
     },
     "metadata": {},
     "output_type": "display_data"
    },
    {
     "data": {
      "image/png": "[encoded data removed]",
      "text/plain": [
       "<Figure size 640x480 with 1 Axes>"
      ]
     },
     "metadata": {},
     "output_type": "display_data"
    }
   ],
   "source": [
    "# Plot the features:\n",
    "plt.figure(figsize=(10, 8))\n",
    "plot_importance(xgb_model, max_num_features=10)\n",
    "plt.title(\"Top 10 Feature Importances\")\n",
    "plt.tight_layout()\n",
    "plt.show()"
   ]
  },
  {
   "cell_type": "markdown",
   "metadata": {},
   "source": [
    "### 9. Save the Model for Deployment"
   ]
  },
  {
   "cell_type": "code",
   "execution_count": 19,
   "metadata": {},
   "outputs": [
    {
     "data": {
      "text/plain": [
       "['C:\\\\My_Files\\\\Projects\\\\ep_2024_25_result_prediction\\\\ftr_label_encoder.pkl']"
      ]
     },
     "execution_count": 19,
     "metadata": {},
     "output_type": "execute_result"
    }
   ],
   "source": [
    "joblib.dump(xgb_model, r\"C:\\My_Files\\Projects\\ep_2024_25_result_prediction\\xgb_ftr_model.pkl\")  # Change as per ur dir\n",
    "joblib.dump(le, r\"C:\\My_Files\\Projects\\ep_2024_25_result_prediction\\ftr_label_encoder.pkl\")     # Change as per ur dir\n",
    "\n",
    "print(\"\\n✅ Model and label encoder saved.\")"
   ]
  }
 ],
 "metadata": {
  "kernelspec": {
   "display_name": "ai_venv_310",
   "language": "python",
   "name": "python3"
  },
  "language_info": {
   "codemirror_mode": {
    "name": "ipython",
    "version": 3
   },
   "file_extension": ".py",
   "mimetype": "text/x-python",
   "name": "python",
   "nbconvert_exporter": "python",
   "pygments_lexer": "ipython3",
   "version": "3.10.11"
  }
 },
 "nbformat": 4,
 "nbformat_minor": 2
}
